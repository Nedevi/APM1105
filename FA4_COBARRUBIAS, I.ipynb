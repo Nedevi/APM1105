{
 "cells": [
  {
   "cell_type": "markdown",
   "id": "654ef6e2",
   "metadata": {},
   "source": [
    "## 1. Write a Python program to print the even numbers from a given list.\n",
    "#### List: [1, 2, 3, 4, 5, 6, 7, 8, 9, 10, 11, 13, 15, 17, 19, 24, 26, 28, 30, 32]"
   ]
  },
  {
   "cell_type": "code",
   "execution_count": 3,
   "id": "3b171df6",
   "metadata": {},
   "outputs": [
    {
     "name": "stdout",
     "output_type": "stream",
     "text": [
      "2 4 6 8 10 24 26 28 30 32 "
     ]
    }
   ],
   "source": [
    "list1 = [1, 2, 3, 4, 5, 6, 7, 8, 9, 10, 11, 13, 15, 17, 19, 24, 26, 28, 30, 32]\n",
    "for a in list1:\n",
    "        if a % 2 == 0:\n",
    "            print(a, end=\" \")"
   ]
  },
  {
   "cell_type": "markdown",
   "id": "c715c60c",
   "metadata": {},
   "source": [
    "## 2. Generate a Python list of all the even numbers between 10 to 60."
   ]
  },
  {
   "cell_type": "code",
   "execution_count": 5,
   "id": "a4e4dafc",
   "metadata": {},
   "outputs": [
    {
     "name": "stdout",
     "output_type": "stream",
     "text": [
      "[10, 12, 14, 16, 18, 20, 22, 24, 26, 28, 30, 32, 34, 36, 38, 40, 42, 44, 46, 48, 50, 52, 54, 56, 58]\n"
     ]
    }
   ],
   "source": [
    "list = []\n",
    "for a in range(10, 60):\n",
    "    if a % 2 == 0:\n",
    "        list.append(a)\n",
    "print(list)"
   ]
  },
  {
   "cell_type": "markdown",
   "id": "33ed3ad0",
   "metadata": {},
   "source": [
    "## 3. Write a program to create a function show_feu_professor() using the following conditions:\n",
    "\n",
    "#### It should accept the professor’s name and salary and display both.\n",
    "#### If the salary is missing in the function call then assign default value 70000 to salary.\n",
    "#### Expected output: Display of at least 5 FEU professors with their salaries."
   ]
  },
  {
   "cell_type": "code",
   "execution_count": 45,
   "id": "35c13b2f",
   "metadata": {},
   "outputs": [
    {
     "name": "stdout",
     "output_type": "stream",
     "text": [
      "Enter Number:5\n",
      "[['Eugenio, Joanna', 100000], ['Gaddi, Coline Phoemela', 75000], ['Tirado, May Anne Caspe', 70000], ['Coronejo, Rosemarie', 80000], ['Cobarrubias, Normita', 74000]]\n"
     ]
    }
   ],
   "source": [
    "import random as r\n",
    "list2 = [['Alvarina, Jeffrey Ignacio', 80000], ['Eugenio, Joanna', 100000], ['San Diego, Cynthia', 0], ['Tirado, May Anne Caspe', 0], ['Coronejo, Rosemarie', 80000], ['Gella, Frederick', 95000], ['Mariano, Maria Lourdes', 85000], ['Gaddi, Coline Phoemela', 75000], ['Gidalanga, Marielle', 100000],['Cobarrubias, Normita', 74000]]\n",
    "default = 70000\n",
    "def show_feu_professor():\n",
    "    for a in range(len(list2)):\n",
    "        if list2[a][1] == 0:\n",
    "            list2[a][1] = default\n",
    "    print(r.sample(list2, k = int(i)))\n",
    "i = input('Enter Number:')\n",
    "show_feu_professor()"
   ]
  },
  {
   "cell_type": "code",
   "execution_count": null,
   "id": "2888006a",
   "metadata": {},
   "outputs": [],
   "source": []
  }
 ],
 "metadata": {
  "kernelspec": {
   "display_name": "Python 3 (ipykernel)",
   "language": "python",
   "name": "python3"
  },
  "language_info": {
   "codemirror_mode": {
    "name": "ipython",
    "version": 3
   },
   "file_extension": ".py",
   "mimetype": "text/x-python",
   "name": "python",
   "nbconvert_exporter": "python",
   "pygments_lexer": "ipython3",
   "version": "3.11.5"
  }
 },
 "nbformat": 4,
 "nbformat_minor": 5
}
