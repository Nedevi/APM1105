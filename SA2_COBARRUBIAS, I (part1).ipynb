{
 "cells": [
  {
   "cell_type": "code",
   "execution_count": 70,
   "id": "210d9e40",
   "metadata": {},
   "outputs": [],
   "source": [
    "import pandas as pd\n",
    "import numpy as n\n",
    "import matplotlib.pyplot as m\n"
   ]
  },
  {
   "cell_type": "code",
   "execution_count": 71,
   "id": "204dfa21",
   "metadata": {},
   "outputs": [
    {
     "name": "stdout",
     "output_type": "stream",
     "text": [
      "   year state    month  number        date\n",
      "0  1998  Acre  Janeiro     0.0  1998-01-01\n",
      "1  1999  Acre  Janeiro     0.0  1999-01-01\n",
      "2  2000  Acre  Janeiro     0.0  2000-01-01\n",
      "3  2001  Acre  Janeiro     0.0  2001-01-01\n",
      "4  2002  Acre  Janeiro     0.0  2002-01-01\n",
      "5  2003  Acre  Janeiro    10.0  2003-01-01\n",
      "6  2004  Acre  Janeiro     0.0  2004-01-01\n",
      "7  2005  Acre  Janeiro    12.0  2005-01-01\n",
      "8  2006  Acre  Janeiro     4.0  2006-01-01\n",
      "9  2007  Acre  Janeiro     0.0  2007-01-01 \n",
      "\n",
      "      year      state     month  number        date\n",
      "6444  2007  Tocantins  Dezembro    13.0  2007-01-01\n",
      "6445  2008  Tocantins  Dezembro     7.0  2008-01-01\n",
      "6446  2009  Tocantins  Dezembro    46.0  2009-01-01\n",
      "6447  2010  Tocantins  Dezembro    72.0  2010-01-01\n",
      "6448  2011  Tocantins  Dezembro   105.0  2011-01-01\n",
      "6449  2012  Tocantins  Dezembro   128.0  2012-01-01\n",
      "6450  2013  Tocantins  Dezembro    85.0  2013-01-01\n",
      "6451  2014  Tocantins  Dezembro   223.0  2014-01-01\n",
      "6452  2015  Tocantins  Dezembro   373.0  2015-01-01\n",
      "6453  2016  Tocantins  Dezembro   119.0  2016-01-01\n"
     ]
    }
   ],
   "source": [
    "file_path = '/Users/imee/Desktop/IVAN/amazon.csv'\n",
    "df = pd.read_csv(file_path, encoding='ISO-8859-1')\n",
    "print(df.head(10), '\\n')\n",
    "print(df.tail(10))"
   ]
  },
  {
   "cell_type": "code",
   "execution_count": 72,
   "id": "2d62b3d1",
   "metadata": {},
   "outputs": [
    {
     "name": "stdout",
     "output_type": "stream",
     "text": [
      "6454\n",
      "5\n"
     ]
    }
   ],
   "source": [
    "df.tail(10)\n",
    "print(df.shape[0])\n",
    "print(df.shape[1])"
   ]
  },
  {
   "cell_type": "code",
   "execution_count": 73,
   "id": "b9a44f0f",
   "metadata": {},
   "outputs": [
    {
     "name": "stdout",
     "output_type": "stream",
     "text": [
      "<class 'pandas.core.frame.DataFrame'>\n",
      "RangeIndex: 6454 entries, 0 to 6453\n",
      "Data columns (total 5 columns):\n",
      " #   Column  Non-Null Count  Dtype  \n",
      "---  ------  --------------  -----  \n",
      " 0   year    6454 non-null   int64  \n",
      " 1   state   6454 non-null   object \n",
      " 2   month   6454 non-null   object \n",
      " 3   number  6454 non-null   float64\n",
      " 4   date    6454 non-null   object \n",
      "dtypes: float64(1), int64(1), object(3)\n",
      "memory usage: 252.2+ KB\n"
     ]
    }
   ],
   "source": [
    "df.info()"
   ]
  },
  {
   "cell_type": "code",
   "execution_count": 74,
   "id": "4a75f26d",
   "metadata": {},
   "outputs": [
    {
     "data": {
      "text/html": [
       "<div>\n",
       "<style scoped>\n",
       "    .dataframe tbody tr th:only-of-type {\n",
       "        vertical-align: middle;\n",
       "    }\n",
       "\n",
       "    .dataframe tbody tr th {\n",
       "        vertical-align: top;\n",
       "    }\n",
       "\n",
       "    .dataframe thead th {\n",
       "        text-align: right;\n",
       "    }\n",
       "</style>\n",
       "<table border=\"1\" class=\"dataframe\">\n",
       "  <thead>\n",
       "    <tr style=\"text-align: right;\">\n",
       "      <th></th>\n",
       "      <th>year</th>\n",
       "      <th>number</th>\n",
       "    </tr>\n",
       "  </thead>\n",
       "  <tbody>\n",
       "    <tr>\n",
       "      <th>count</th>\n",
       "      <td>6454.000000</td>\n",
       "      <td>6454.000000</td>\n",
       "    </tr>\n",
       "    <tr>\n",
       "      <th>mean</th>\n",
       "      <td>2007.461729</td>\n",
       "      <td>108.293163</td>\n",
       "    </tr>\n",
       "    <tr>\n",
       "      <th>std</th>\n",
       "      <td>5.746654</td>\n",
       "      <td>190.812242</td>\n",
       "    </tr>\n",
       "    <tr>\n",
       "      <th>min</th>\n",
       "      <td>1998.000000</td>\n",
       "      <td>0.000000</td>\n",
       "    </tr>\n",
       "    <tr>\n",
       "      <th>25%</th>\n",
       "      <td>2002.000000</td>\n",
       "      <td>3.000000</td>\n",
       "    </tr>\n",
       "    <tr>\n",
       "      <th>50%</th>\n",
       "      <td>2007.000000</td>\n",
       "      <td>24.000000</td>\n",
       "    </tr>\n",
       "    <tr>\n",
       "      <th>75%</th>\n",
       "      <td>2012.000000</td>\n",
       "      <td>113.000000</td>\n",
       "    </tr>\n",
       "    <tr>\n",
       "      <th>max</th>\n",
       "      <td>2017.000000</td>\n",
       "      <td>998.000000</td>\n",
       "    </tr>\n",
       "  </tbody>\n",
       "</table>\n",
       "</div>"
      ],
      "text/plain": [
       "              year       number\n",
       "count  6454.000000  6454.000000\n",
       "mean   2007.461729   108.293163\n",
       "std       5.746654   190.812242\n",
       "min    1998.000000     0.000000\n",
       "25%    2002.000000     3.000000\n",
       "50%    2007.000000    24.000000\n",
       "75%    2012.000000   113.000000\n",
       "max    2017.000000   998.000000"
      ]
     },
     "execution_count": 74,
     "metadata": {},
     "output_type": "execute_result"
    }
   ],
   "source": [
    "df[~df.duplicated()]\n",
    "df.describe()"
   ]
  },
  {
   "cell_type": "code",
   "execution_count": 75,
   "id": "8f9c0344",
   "metadata": {},
   "outputs": [
    {
     "data": {
      "text/html": [
       "<div>\n",
       "<style scoped>\n",
       "    .dataframe tbody tr th:only-of-type {\n",
       "        vertical-align: middle;\n",
       "    }\n",
       "\n",
       "    .dataframe tbody tr th {\n",
       "        vertical-align: top;\n",
       "    }\n",
       "\n",
       "    .dataframe thead th {\n",
       "        text-align: right;\n",
       "    }\n",
       "</style>\n",
       "<table border=\"1\" class=\"dataframe\">\n",
       "  <thead>\n",
       "    <tr style=\"text-align: right;\">\n",
       "      <th></th>\n",
       "      <th>year</th>\n",
       "      <th>state</th>\n",
       "      <th>month</th>\n",
       "      <th>number</th>\n",
       "      <th>date</th>\n",
       "    </tr>\n",
       "  </thead>\n",
       "  <tbody>\n",
       "    <tr>\n",
       "      <th>0</th>\n",
       "      <td>1998</td>\n",
       "      <td>Acre</td>\n",
       "      <td>January</td>\n",
       "      <td>0.0</td>\n",
       "      <td>1998-01-01</td>\n",
       "    </tr>\n",
       "    <tr>\n",
       "      <th>1</th>\n",
       "      <td>1999</td>\n",
       "      <td>Acre</td>\n",
       "      <td>January</td>\n",
       "      <td>0.0</td>\n",
       "      <td>1999-01-01</td>\n",
       "    </tr>\n",
       "    <tr>\n",
       "      <th>2</th>\n",
       "      <td>2000</td>\n",
       "      <td>Acre</td>\n",
       "      <td>January</td>\n",
       "      <td>0.0</td>\n",
       "      <td>2000-01-01</td>\n",
       "    </tr>\n",
       "    <tr>\n",
       "      <th>3</th>\n",
       "      <td>2001</td>\n",
       "      <td>Acre</td>\n",
       "      <td>January</td>\n",
       "      <td>0.0</td>\n",
       "      <td>2001-01-01</td>\n",
       "    </tr>\n",
       "    <tr>\n",
       "      <th>4</th>\n",
       "      <td>2002</td>\n",
       "      <td>Acre</td>\n",
       "      <td>January</td>\n",
       "      <td>0.0</td>\n",
       "      <td>2002-01-01</td>\n",
       "    </tr>\n",
       "    <tr>\n",
       "      <th>...</th>\n",
       "      <td>...</td>\n",
       "      <td>...</td>\n",
       "      <td>...</td>\n",
       "      <td>...</td>\n",
       "      <td>...</td>\n",
       "    </tr>\n",
       "    <tr>\n",
       "      <th>6449</th>\n",
       "      <td>2012</td>\n",
       "      <td>Tocantins</td>\n",
       "      <td>December</td>\n",
       "      <td>128.0</td>\n",
       "      <td>2012-01-01</td>\n",
       "    </tr>\n",
       "    <tr>\n",
       "      <th>6450</th>\n",
       "      <td>2013</td>\n",
       "      <td>Tocantins</td>\n",
       "      <td>December</td>\n",
       "      <td>85.0</td>\n",
       "      <td>2013-01-01</td>\n",
       "    </tr>\n",
       "    <tr>\n",
       "      <th>6451</th>\n",
       "      <td>2014</td>\n",
       "      <td>Tocantins</td>\n",
       "      <td>December</td>\n",
       "      <td>223.0</td>\n",
       "      <td>2014-01-01</td>\n",
       "    </tr>\n",
       "    <tr>\n",
       "      <th>6452</th>\n",
       "      <td>2015</td>\n",
       "      <td>Tocantins</td>\n",
       "      <td>December</td>\n",
       "      <td>373.0</td>\n",
       "      <td>2015-01-01</td>\n",
       "    </tr>\n",
       "    <tr>\n",
       "      <th>6453</th>\n",
       "      <td>2016</td>\n",
       "      <td>Tocantins</td>\n",
       "      <td>December</td>\n",
       "      <td>119.0</td>\n",
       "      <td>2016-01-01</td>\n",
       "    </tr>\n",
       "  </tbody>\n",
       "</table>\n",
       "<p>6454 rows × 5 columns</p>\n",
       "</div>"
      ],
      "text/plain": [
       "      year      state     month  number        date\n",
       "0     1998       Acre   January     0.0  1998-01-01\n",
       "1     1999       Acre   January     0.0  1999-01-01\n",
       "2     2000       Acre   January     0.0  2000-01-01\n",
       "3     2001       Acre   January     0.0  2001-01-01\n",
       "4     2002       Acre   January     0.0  2002-01-01\n",
       "...    ...        ...       ...     ...         ...\n",
       "6449  2012  Tocantins  December   128.0  2012-01-01\n",
       "6450  2013  Tocantins  December    85.0  2013-01-01\n",
       "6451  2014  Tocantins  December   223.0  2014-01-01\n",
       "6452  2015  Tocantins  December   373.0  2015-01-01\n",
       "6453  2016  Tocantins  December   119.0  2016-01-01\n",
       "\n",
       "[6454 rows x 5 columns]"
      ]
     },
     "execution_count": 75,
     "metadata": {},
     "output_type": "execute_result"
    }
   ],
   "source": [
    "month_map = {\n",
    "    \"Janeiro\": \"January\",\n",
    "    \"Fevereiro\": \"February\",\n",
    "    \"Marco\": \"March\",\n",
    "    \"Abril\": \"April\",\n",
    "    \"Maio\": \"May\",\n",
    "    \"Junho\": \"June\",\n",
    "    \"Julho\": \"July\",\n",
    "    \"Agosto\": \"August\",\n",
    "    \"Setembro\": \"September\",\n",
    "    \"Outubro\": \"October\",\n",
    "    \"Novembro\": \"November\",\n",
    "    \"Dezembro\": \"December\"\n",
    "}\n",
    "df[\"month\"] = df[\"month\"].map(month_map)\n",
    "df"
   ]
  },
  {
   "cell_type": "code",
   "execution_count": 76,
   "id": "fc3078de",
   "metadata": {},
   "outputs": [
    {
     "data": {
      "text/plain": [
       "698924.0"
      ]
     },
     "execution_count": 76,
     "metadata": {},
     "output_type": "execute_result"
    }
   ],
   "source": [
    "df['number'].sum().round(0)\n"
   ]
  },
  {
   "cell_type": "code",
   "execution_count": 87,
   "id": "71563ec8",
   "metadata": {},
   "outputs": [
    {
     "data": {
      "text/plain": [
       "number    92326.0\n",
       "Name: July, dtype: float64"
      ]
     },
     "execution_count": 87,
     "metadata": {},
     "output_type": "execute_result"
    }
   ],
   "source": [
    "grouped_df = df.groupby('month')['number'].agg(number = 'sum').round(0)\n",
    "grouped_df.loc[grouped_df['number'].idxmax()]"
   ]
  },
  {
   "cell_type": "code",
   "execution_count": 88,
   "id": "24fa4cef",
   "metadata": {},
   "outputs": [
    {
     "data": {
      "text/plain": [
       "number    42761.0\n",
       "Name: 2003, dtype: float64"
      ]
     },
     "execution_count": 88,
     "metadata": {},
     "output_type": "execute_result"
    }
   ],
   "source": [
    "grouped_df = df.groupby('year')['number'].agg(number = 'sum').round(0)\n",
    "grouped_df.loc[grouped_df['number'].idxmax()]"
   ]
  },
  {
   "cell_type": "code",
   "execution_count": 89,
   "id": "3a946d63",
   "metadata": {},
   "outputs": [
    {
     "data": {
      "text/plain": [
       "number    96246.0\n",
       "Name: Mato Grosso, dtype: float64"
      ]
     },
     "execution_count": 89,
     "metadata": {},
     "output_type": "execute_result"
    }
   ],
   "source": [
    "grouped_df = df.groupby('state')['number'].agg(number = 'sum').round(0)\n",
    "grouped_df.loc[grouped_df['number'].idxmax()]"
   ]
  },
  {
   "cell_type": "code",
   "execution_count": 92,
   "id": "1541cad5",
   "metadata": {},
   "outputs": [
    {
     "data": {
      "text/plain": [
       "30650.0"
      ]
     },
     "execution_count": 92,
     "metadata": {},
     "output_type": "execute_result"
    }
   ],
   "source": [
    "df.loc[df['state'] == 'Amazonas', 'number'].sum().round(0)"
   ]
  },
  {
   "cell_type": "code",
   "execution_count": 93,
   "id": "ddc68e00",
   "metadata": {},
   "outputs": [
    {
     "data": {
      "text/plain": [
       "year\n",
       "1998     946.0\n",
       "1999    1061.0\n",
       "2000     853.0\n",
       "2001    1297.0\n",
       "2002    2852.0\n",
       "2003    1524.0\n",
       "2004    2298.0\n",
       "2005    1657.0\n",
       "2006     998.0\n",
       "2007     590.0\n",
       "2008    2717.0\n",
       "2009    1321.0\n",
       "2010    2325.0\n",
       "2011    1653.0\n",
       "2012    1111.0\n",
       "2013     905.0\n",
       "2014    2386.0\n",
       "2015    1190.0\n",
       "2016    2061.0\n",
       "2017     907.0\n",
       "Name: number, dtype: float64"
      ]
     },
     "execution_count": 93,
     "metadata": {},
     "output_type": "execute_result"
    }
   ],
   "source": [
    "df.loc[df['state'] == 'Amazonas'].groupby('year')['number'].sum().round(0)"
   ]
  },
  {
   "cell_type": "code",
   "execution_count": 94,
   "id": "01f58ad7",
   "metadata": {},
   "outputs": [
    {
     "data": {
      "text/plain": [
       "date\n",
       "1998-01-01     946.0\n",
       "1999-01-01    1061.0\n",
       "2000-01-01     853.0\n",
       "2001-01-01    1297.0\n",
       "2002-01-01    2852.0\n",
       "2003-01-01    1524.0\n",
       "2004-01-01    2298.0\n",
       "2005-01-01    1657.0\n",
       "2006-01-01     998.0\n",
       "2007-01-01     590.0\n",
       "2008-01-01    2717.0\n",
       "2009-01-01    1321.0\n",
       "2010-01-01    2325.0\n",
       "2011-01-01    1653.0\n",
       "2012-01-01    1111.0\n",
       "2013-01-01     905.0\n",
       "2014-01-01    2386.0\n",
       "2015-01-01    1190.0\n",
       "2016-01-01    2061.0\n",
       "2017-01-01     907.0\n",
       "Name: number, dtype: float64"
      ]
     },
     "execution_count": 94,
     "metadata": {},
     "output_type": "execute_result"
    }
   ],
   "source": [
    "df.loc[df['state'] == 'Amazonas'].groupby('date')['number'].sum().round(0)"
   ]
  },
  {
   "cell_type": "code",
   "execution_count": 97,
   "id": "cee50deb",
   "metadata": {},
   "outputs": [
    {
     "data": {
      "image/png": "[encoded data removed]",
      "text/plain": [
       "<Figure size 640x480 with 1 Axes>"
      ]
     },
     "metadata": {},
     "output_type": "display_data"
    }
   ],
   "source": [
    "grouped = df.loc[df['year'] == 2015].groupby('month')['number'].sum()\n",
    "grouped.plot(kind='bar')\n",
    "m.xlabel('Month')\n",
    "m.ylabel('Total fire reports')\n",
    "m.title('Fire reports by month for 2015')\n",
    "m.show()"
   ]
  },
  {
   "cell_type": "code",
   "execution_count": 100,
   "id": "e9224330",
   "metadata": {},
   "outputs": [
    {
     "data": {
      "text/plain": [
       "state\n",
       "Sao Paulo           213.90\n",
       "Mato Grosso         201.35\n",
       "Bahia               187.22\n",
       "Piau                158.17\n",
       "Goias               157.72\n",
       "Minas Gerais        156.80\n",
       "Tocantins           141.04\n",
       "Amazonas            128.24\n",
       "Ceara               127.31\n",
       "Paraiba             109.70\n",
       "Maranhao            105.14\n",
       "Pará                102.56\n",
       "Pernambuco          102.50\n",
       "Roraima             102.03\n",
       "Santa Catarina      101.92\n",
       "Amapa                91.35\n",
       "Rondonia             84.88\n",
       "Acre                 77.26\n",
       "Rio                  62.99\n",
       "Espirito Santo       27.39\n",
       "Alagoas              19.35\n",
       "Distrito Federal     14.90\n",
       "Sergipe              13.54\n",
       "Name: number, dtype: float64"
      ]
     },
     "execution_count": 100,
     "metadata": {},
     "output_type": "execute_result"
    }
   ],
   "source": [
    "grouped = df.groupby('state')['number'].mean().round(2)\n",
    "grouped.sort_values(ascending=False)"
   ]
  },
  {
   "cell_type": "code",
   "execution_count": 101,
   "id": "af9737e2",
   "metadata": {},
   "outputs": [
    {
     "data": {
      "text/plain": [
       "array(['Acre', 'Alagoas', 'Amapa', 'Amazonas', 'Bahia', 'Ceara',\n",
       "       'Distrito Federal', 'Espirito Santo', 'Goias', 'Maranhao',\n",
       "       'Mato Grosso', 'Minas Gerais', 'Pará', 'Paraiba', 'Pernambuco',\n",
       "       'Piau', 'Rio', 'Rondonia', 'Roraima', 'Santa Catarina',\n",
       "       'Sao Paulo', 'Sergipe', 'Tocantins'], dtype=object)"
      ]
     },
     "execution_count": 101,
     "metadata": {},
     "output_type": "execute_result"
    }
   ],
   "source": [
    "december_df = df[df['month'] == 'December']\n",
    "december_df['state'].unique()\n"
   ]
  }
 ],
 "metadata": {
  "kernelspec": {
   "display_name": "Python 3 (ipykernel)",
   "language": "python",
   "name": "python3"
  },
  "language_info": {
   "codemirror_mode": {
    "name": "ipython",
    "version": 3
   },
   "file_extension": ".py",
   "mimetype": "text/x-python",
   "name": "python",
   "nbconvert_exporter": "python",
   "pygments_lexer": "ipython3",
   "version": "3.11.5"
  }
 },
 "nbformat": 4,
 "nbformat_minor": 5
}
