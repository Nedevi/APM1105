{
 "cells": [
  {
   "cell_type": "markdown",
   "id": "8cc4e871",
   "metadata": {},
   "source": [
    "## 1. Iteration"
   ]
  },
  {
   "cell_type": "code",
   "execution_count": 1,
   "id": "1801358d",
   "metadata": {},
   "outputs": [
    {
     "name": "stdout",
     "output_type": "stream",
     "text": [
      "Base:2\n",
      "Exponent:100\n",
      "1.2676506002282294e+30\n",
      "Rendering time: 0.0003120899200439453 sec\n"
     ]
    }
   ],
   "source": [
    "import time\n",
    "\n",
    "def iterative_exponent(a, b):\n",
    "    c = 1\n",
    "    d = a\n",
    "    while c < b:\n",
    "        d = d*a \n",
    "        c += 1\n",
    "    else:\n",
    "         return d\n",
    "         \n",
    "c = float(input(\"Base:\"))\n",
    "d = float(input(\"Exponent:\"))\n",
    "a = time.time()\n",
    "print(iterative_exponent(c, d))\n",
    "b = time.time()\n",
    "print(\"Rendering time:\",b-a, \"sec\")\n",
    "\n",
    "        "
   ]
  },
  {
   "cell_type": "markdown",
   "id": "13d96a56",
   "metadata": {},
   "source": [
    "## 1. Recurssion"
   ]
  },
  {
   "cell_type": "code",
   "execution_count": 2,
   "id": "c61740d7",
   "metadata": {},
   "outputs": [
    {
     "name": "stdout",
     "output_type": "stream",
     "text": [
      "Base:2\n",
      "Exponent:100\n",
      "1.2676506002282294e+30\n",
      "Rendering time: 0.0003001689910888672 sec\n"
     ]
    }
   ],
   "source": [
    "def recursive_exponent(a, b):\n",
    "    if b == 0:\n",
    "        return 1\n",
    "    else:\n",
    "        return a * recursive_exponent(a, b - 1)\n",
    "\n",
    "c = float(input(\"Base:\"))\n",
    "d = float(input(\"Exponent:\"))\n",
    "a = time.time()\n",
    "print(recursive_exponent(c, d))\n",
    "b = time.time()\n",
    "print(\"Rendering time:\",b-a, \"sec\")\n"
   ]
  },
  {
   "cell_type": "markdown",
   "id": "8db87ae0",
   "metadata": {},
   "source": [
    "##### q1: Each time a recursion function runs, it uses a call stack to store information. It then piles up and as it grows bigger, it slows down. Iteration does not use this"
   ]
  },
  {
   "cell_type": "markdown",
   "id": "f20f9835",
   "metadata": {},
   "source": [
    "## 2. Iteration"
   ]
  },
  {
   "cell_type": "code",
   "execution_count": 4,
   "id": "833b7148",
   "metadata": {},
   "outputs": [
    {
     "name": "stdout",
     "output_type": "stream",
     "text": [
      "Enter number for n:20\n",
      "Sum of first 20 powers of 2: 2097152\n",
      "Rendering time: 0.0003151893615722656 seconds\n"
     ]
    }
   ],
   "source": [
    "import time\n",
    "\n",
    "def iterative_sum(a):\n",
    "    result = 1\n",
    "    for b in range(a+1):\n",
    "        result += 2 ** b\n",
    "    return result\n",
    "\n",
    "\n",
    "n = int(input(\"Enter number for n:\"))\n",
    "\n",
    "c = time.time()\n",
    "print(\"Sum of first\", n ,\"powers of 2:\", iterative_sum(n))\n",
    "d = time.time()\n",
    "print(\"Rendering time:\", d-c , \"seconds\")\n"
   ]
  },
  {
   "cell_type": "markdown",
   "id": "6e860b2b",
   "metadata": {},
   "source": [
    "## 2. Recursion"
   ]
  },
  {
   "cell_type": "code",
   "execution_count": 5,
   "id": "4179d084",
   "metadata": {},
   "outputs": [
    {
     "name": "stdout",
     "output_type": "stream",
     "text": [
      "Enter number for n:20\n",
      "Sum of first 20 powers of 2: 2097152\n",
      "Rendering time: 0.0003159046173095703 seconds\n"
     ]
    }
   ],
   "source": [
    "import time\n",
    "\n",
    "def recursive_sum(a):\n",
    "    b = 0\n",
    "    if b == a:\n",
    "        return 2\n",
    "    else:\n",
    "        return 2 ** a  + recursive_sum(a - 1)\n",
    "        b+=1\n",
    "\n",
    "n = int(input(\"Enter number for n:\"))\n",
    "\n",
    "a = time.time()\n",
    "print(\"Sum of first\", n ,\"powers of 2:\", recursive_sum(n))\n",
    "b = time.time()\n",
    "print(\"Rendering time:\", b-a , \"seconds\")\n"
   ]
  },
  {
   "cell_type": "markdown",
   "id": "712cd9d9",
   "metadata": {},
   "source": [
    "##### q2: In the case for number 2, the iteration was only marginally faster which may be due to the hardware used to run the programs"
   ]
  }
 ],
 "metadata": {
  "kernelspec": {
   "display_name": "Python 3 (ipykernel)",
   "language": "python",
   "name": "python3"
  },
  "language_info": {
   "codemirror_mode": {
    "name": "ipython",
    "version": 3
   },
   "file_extension": ".py",
   "mimetype": "text/x-python",
   "name": "python",
   "nbconvert_exporter": "python",
   "pygments_lexer": "ipython3",
   "version": "3.11.5"
  }
 },
 "nbformat": 4,
 "nbformat_minor": 5
}
