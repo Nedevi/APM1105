{
 "cells": [
  {
   "cell_type": "markdown",
   "id": "df2dbbb5",
   "metadata": {},
   "source": [
    "## Rewrite the turtle-fence program so that the fence is now a circle that the turtle must stay inside of.\n",
    "\n",
    "1. You first need to modify the DrawFence(s) to draw a circle of radius r.\n",
    "2. When is above is working modify Bounce_off_fence(t,r) to work with the circle. HINT: remember the distance formula you learned in algebra? Might need http://www.mathsisfun.com/polar-cartesian-coordinates.html Links to an external site.\n",
    "3. The remainder of the code aught to work as is.\n"
   ]
  },
  {
   "cell_type": "code",
   "execution_count": null,
   "id": "d2d60801",
   "metadata": {},
   "outputs": [],
   "source": [
    "import turtle\n",
    "import math\n",
    "import random\n",
    "\n",
    "def DrawFence(r):\n",
    "    turtle.color(\"green\")\n",
    "    turtle.penup()\n",
    "    turtle.goto(0, -r)  \n",
    "    turtle.pendown()\n",
    "    turtle.circle(r)\n",
    "\n",
    "def Bounce_off_fence(t, r):\n",
    "    x, y = t.position()\n",
    "    distance_to_center = math.sqrt(x**2 + y**2)\n",
    "    if distance_to_center > r:\n",
    "        angle = math.atan2(y, x)\n",
    "        new_angle = angle + random.uniform(-math.pi *3, math.pi * 3)\n",
    "        new_x = r * math.cos(new_angle)\n",
    "        new_y = r * math.sin(new_angle)\n",
    "        t.goto(new_x, new_y)\n",
    "\n",
    "\n",
    "window = turtle.Screen()\n",
    "window.bgcolor(\"black\")\n",
    "\n",
    "fence_radius = 300\n",
    "turtle_1 = turtle.Turtle()\n",
    "turtle_1.shape(\"circle\")\n",
    "turtle_1.color(\"red\")\n",
    "turtle_1.penup()\n",
    "\n",
    "DrawFence(fence_radius)\n",
    "\n",
    "while True:\n",
    "    turtle_1.forward(-10)\n",
    "    Bounce_off_fence(turtle_1, fence_radius)\n",
    "\n",
    "window.mainloop()\n",
    "\n"
   ]
  },
  {
   "cell_type": "code",
   "execution_count": null,
   "id": "57f79c05",
   "metadata": {},
   "outputs": [],
   "source": []
  }
 ],
 "metadata": {
  "kernelspec": {
   "display_name": "Python 3 (ipykernel)",
   "language": "python",
   "name": "python3"
  },
  "language_info": {
   "codemirror_mode": {
    "name": "ipython",
    "version": 3
   },
   "file_extension": ".py",
   "mimetype": "text/x-python",
   "name": "python",
   "nbconvert_exporter": "python",
   "pygments_lexer": "ipython3",
   "version": "3.11.5"
  }
 },
 "nbformat": 4,
 "nbformat_minor": 5
}
